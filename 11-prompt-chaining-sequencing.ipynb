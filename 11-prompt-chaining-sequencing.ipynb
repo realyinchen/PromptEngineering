{
 "cells": [
  {
   "cell_type": "code",
   "execution_count": 1,
   "id": "cc69cd07",
   "metadata": {},
   "outputs": [
    {
     "data": {
      "text/plain": [
       "True"
      ]
     },
     "execution_count": 1,
     "metadata": {},
     "output_type": "execute_result"
    }
   ],
   "source": [
    "from dotenv import load_dotenv\n",
    "\n",
    "load_dotenv()"
   ]
  },
  {
   "cell_type": "markdown",
   "id": "3c8535c0",
   "metadata": {},
   "source": [
    "# 基础提示链（Basic Prompt Chaining）"
   ]
  },
  {
   "cell_type": "code",
   "execution_count": 2,
   "id": "9a36a431",
   "metadata": {},
   "outputs": [],
   "source": [
    "from langchain_core.prompts import PromptTemplate\n",
    "\n",
    "\n",
    "# 定义提示模板\n",
    "story_prompt = PromptTemplate(\n",
    "    input_variables=[\"genre\"],\n",
    "    template=\"用 3-4 句话写一个简短的{genre}故事。\"\n",
    ")\n",
    "\n",
    "summary_prompt = PromptTemplate(\n",
    "    input_variables=[\"story\"],\n",
    "    template=\"用一句话概括以下故事：\\n{story}\"\n",
    ")"
   ]
  },
  {
   "cell_type": "code",
   "execution_count": 5,
   "id": "70f9a93d",
   "metadata": {},
   "outputs": [],
   "source": [
    "from langchain_openai import ChatOpenAI\n",
    "\n",
    "llm = ChatOpenAI(\n",
    "    model=\"qwen-max\", temperature=1, top_p=0.8, extra_body={\"enable_thinking\": False}\n",
    ")\n",
    "\n",
    "# 连接提示链\n",
    "def story_chain(genre):\n",
    "    \"\"\"根据指定的题材生成一个故事及其摘要。\n",
    "\n",
    "    参数:\n",
    "        genre (str): 要生成的故事题材类型。\n",
    "\n",
    "    返回:\n",
    "        tuple: 一个元组，包含生成的故事和其摘要。\n",
    "    \"\"\"\n",
    "    story = (story_prompt | llm).invoke({\"genre\": genre}).content\n",
    "    summary = (summary_prompt | llm).invoke({\"story\": story}).content\n",
    "    return story, summary"
   ]
  },
  {
   "cell_type": "code",
   "execution_count": 8,
   "id": "528b17ee",
   "metadata": {},
   "outputs": [
    {
     "data": {
      "text/markdown": [
       "# 故事: \n",
       "在遥远的未来，地球上的科学家们终于发明了时间旅行技术。第一次试验中，勇敢的探险家艾丽丝成功地回到了过去，却意外发现自己成为了历史书籍中的无名英雄。她留下的唯一线索是一张古老的照片，显示着一个模糊的身影站在21世纪的街头，手中握着一本未来的日记。\n",
       "\n",
       "# 摘要: \n",
       "勇敢的探险家艾丽丝通过时间旅行回到过去，意外成为无名英雄，并留下一张手持未来日记站在21世纪街头的模糊照片作为唯一线索。"
      ],
      "text/plain": [
       "<IPython.core.display.Markdown object>"
      ]
     },
     "metadata": {},
     "output_type": "display_data"
    }
   ],
   "source": [
    "from IPython.display import display, Markdown\n",
    "\n",
    "# 测试提示链\n",
    "genre = \"科幻\"\n",
    "story, summary = story_chain(genre)\n",
    "display(Markdown((f\"# 故事: \\n{story}\\n\\n# 摘要: \\n{summary}\")))"
   ]
  },
  {
   "cell_type": "markdown",
   "id": "716ce003",
   "metadata": {},
   "source": [
    "# 顺序提示（Sequential Prompting）"
   ]
  },
  {
   "cell_type": "code",
   "execution_count": 9,
   "id": "7c1692d8",
   "metadata": {},
   "outputs": [],
   "source": [
    "# 为每个分析步骤定义提示模板\n",
    "theme_prompt = PromptTemplate(\n",
    "    input_variables=[\"text\"],\n",
    "    template=\"识别以下文本的主要主题：\\n{text}\"\n",
    ")\n",
    "\n",
    "tone_prompt = PromptTemplate(\n",
    "    input_variables=[\"text\"],\n",
    "    template=\"描述以下文本的整体语气：\\n{text}\"\n",
    ")\n",
    "\n",
    "takeaway_prompt = PromptTemplate(\n",
    "    input_variables=[\"text\", \"theme\", \"tone\"],\n",
    "    template=\"根据以下文本，其主要主题是“{theme}”，语气为“{tone}”，请总结出关键要点：\\n{text}\"\n",
    ")"
   ]
  },
  {
   "cell_type": "code",
   "execution_count": 10,
   "id": "a6233531",
   "metadata": {},
   "outputs": [],
   "source": [
    "def analyze_text(text):\n",
    "    \"\"\"对给定文本执行多步骤分析。\n",
    "\n",
    "    参数：\n",
    "        text (str)：需要分析的文本。\n",
    "\n",
    "    返回：\n",
    "        dict：包含文本主题、语气以及关键要点的字典。\n",
    "    \"\"\"\n",
    "    theme = (theme_prompt | llm).invoke({\"text\": text}).content\n",
    "    tone = (tone_prompt | llm).invoke({\"text\": text}).content\n",
    "    takeaways = (takeaway_prompt | llm).invoke({\"text\": text, \"theme\": theme, \"tone\": tone}).content\n",
    "    return {\"theme\": theme, \"tone\": tone, \"takeaways\": takeaways}"
   ]
  },
  {
   "cell_type": "code",
   "execution_count": 13,
   "id": "4feca5f7",
   "metadata": {},
   "outputs": [
    {
     "name": "stdout",
     "output_type": "stream",
     "text": [
      "Theme:\n",
      "\n"
     ]
    },
    {
     "data": {
      "text/markdown": [
       "这段文本的主要主题是关于人工智能（AI）发展的双面性。一方面，它强调了AI技术进步所带来的积极影响，如行业变革和生活质量的提升；另一方面，则讨论了伴随这些进步而来的潜在风险与挑战，包括隐私问题、就业市场的变化以及伦理道德上的考量。文本呼吁在推进AI技术的同时，需要采取谨慎且前瞻性的方法来平衡其利弊。简而言之，主题可以概括为“人工智能的发展及其带来的机遇与挑战”。"
      ],
      "text/plain": [
       "<IPython.core.display.Markdown object>"
      ]
     },
     "metadata": {},
     "output_type": "display_data"
    },
    {
     "name": "stdout",
     "output_type": "stream",
     "text": [
      "Tone:\n",
      "\n"
     ]
    },
    {
     "data": {
      "text/markdown": [
       "这段文本的整体语气是审慎和平衡的。它既表达了对人工智能技术发展潜力的乐观期待，也明确指出了伴随而来的潜在风险与挑战。通过强调需要谨慎及前瞻性地对待AI的发展，体现了作者对于如何妥善利用这项技术、平衡利益与风险持有一种负责任的态度。整体上，这种语气旨在唤起读者对于AI技术双刃剑性质的认识，并倡导采取积极但又不失警惕的方式来推动其健康发展。"
      ],
      "text/plain": [
       "<IPython.core.display.Markdown object>"
      ]
     },
     "metadata": {},
     "output_type": "display_data"
    },
    {
     "name": "stdout",
     "output_type": "stream",
     "text": [
      "Takeaways:\n",
      "\n"
     ]
    },
    {
     "data": {
      "text/markdown": [
       "关键要点总结如下：\n",
       "\n",
       "1. **人工智能的双面性**：一方面，AI技术的发展为各行各业带来了积极的变化，能够显著改善人们的生活质量；另一方面，它也引发了包括隐私侵犯、就业市场变动以及伦理道德问题在内的多方面挑战。\n",
       "\n",
       "2. **专家视角**：专业人士对AI的进步既感到兴奋又存在忧虑，这反映了技术本身具有极大潜力同时也伴随着潜在风险的事实。\n",
       "\n",
       "3. **谨慎与前瞻性的态度**：鉴于AI技术可能带来的广泛影响，在推进其发展时需要采取一种平衡的方法，既要充分利用其优势促进社会进步，又要警惕并尽量减少可能出现的问题。\n",
       "\n",
       "4. **最大化利益与最小化风险**：面对即将到来的技术革命，重要的是找到一种方式来最大化利用AI的好处，同时有效地管理和减轻任何负面影响。"
      ],
      "text/plain": [
       "<IPython.core.display.Markdown object>"
      ]
     },
     "metadata": {},
     "output_type": "display_data"
    }
   ],
   "source": [
    "# 测试顺序提示\n",
    "sample_text = (\n",
    "    \"人工智能的迅猛发展在专家中引发了既激动又担忧的情绪。\"\n",
    "    \"虽然 AI 有望彻底变革各行各业并改善我们的日常生活，\"\n",
    "    \"但它也带来了关于隐私、岗位流失以及被滥用的伦理问题。\"\n",
    "    \"当我们站在这场技术革命的门口，必须以谨慎和前瞻性的态度推进 AI 的发展，\"\n",
    "    \"以确保其优势最大化、风险最小化。\"\n",
    ")\n",
    "\n",
    "analysis = analyze_text(sample_text)\n",
    "for key, value in analysis.items():\n",
    "    print(f\"{key.capitalize()}:\\n\")\n",
    "    display(Markdown(value))"
   ]
  },
  {
   "cell_type": "markdown",
   "id": "bfcfb8c8",
   "metadata": {},
   "source": [
    "# 动态提示生成（Dynamic Prompt Generation）"
   ]
  },
  {
   "cell_type": "code",
   "execution_count": 14,
   "id": "38e8606f",
   "metadata": {},
   "outputs": [],
   "source": [
    "# 定义提示模板\n",
    "answer_prompt = PromptTemplate(\n",
    "    input_variables=[\"question\"],\n",
    "    template=\"简明扼要地回答以下问题：\\n{question}\"\n",
    ")\n",
    "\n",
    "follow_up_prompt = PromptTemplate(\n",
    "    input_variables=[\"question\", \"answer\"],\n",
    "    template=\"根据问题“{question}”和回答“{answer}”，生成一个相关的后续问题。\"\n",
    ")"
   ]
  },
  {
   "cell_type": "code",
   "execution_count": 15,
   "id": "a2f66389",
   "metadata": {},
   "outputs": [],
   "source": [
    "def dynamic_qa(initial_question, num_follow_ups=3):\n",
    "    \"\"\"进行一次动态问答对话，自动生成后续问题。\n",
    "\n",
    "    参数：\n",
    "        initial_question (str)：用于开始问答会话的初始问题。\n",
    "        num_follow_ups (int)：要生成的后续问题数量。\n",
    "\n",
    "    返回：\n",
    "        list：一个包含问题与答案字典的列表。\n",
    "    \"\"\"\n",
    "    qa_chain = []\n",
    "    current_question = initial_question\n",
    "\n",
    "    for _ in range(num_follow_ups + 1):  # +1 是包括初始问题\n",
    "        answer = (answer_prompt | llm).invoke({\"question\": current_question}).content\n",
    "        qa_chain.append({\"question\": current_question, \"answer\": answer})\n",
    "        \n",
    "        if _ < num_follow_ups:  # 最后一次不再生成后续问题\n",
    "            current_question = (follow_up_prompt | llm).invoke({\n",
    "                \"question\": current_question,\n",
    "                \"answer\": answer\n",
    "            }).content\n",
    "\n",
    "    return qa_chain"
   ]
  },
  {
   "cell_type": "code",
   "execution_count": 16,
   "id": "4ee8f803",
   "metadata": {},
   "outputs": [
    {
     "name": "stdout",
     "output_type": "stream",
     "text": [
      "问题1：量子计算有哪些潜在应用？\n",
      "回答1：量子计算的潜在应用包括：\n",
      "1. 大数据分析：加速处理大规模数据集。\n",
      "2. 优化问题解决：如物流、调度等复杂系统的最优解搜索。\n",
      "3. 化学和材料科学：模拟分子结构，发现新材料或药物。\n",
      "4. 人工智能：提高机器学习模型训练速度与准确性。\n",
      "5. 密码学：开发新的加密技术及破解现有加密算法。\n",
      "\n",
      "问题2：考虑到量子计算在多个领域的潜在应用，一个相关的后续问题是：“在这些应用中，哪一项目前被认为是最接近实际应用的？请说明理由。”这样的问题可以帮助更深入地了解量子计算技术的发展现状及其对不同行业可能产生的影响。\n",
      "回答2：目前被认为最接近实际应用的量子计算领域是量子化学模拟。理由如下：\n",
      "\n",
      "1. **理论基础成熟**：量子力学本身就是描述微观粒子行为（如原子、分子）的基础理论，因此使用量子计算机来模拟这些系统具有天然优势。\n",
      "2. **现有算法支持**：已经有一些特定于解决化学问题的量子算法被开发出来，比如变分量子本征解求解器(VQE)等，这些算法能够在较短时间内找到近似解。\n",
      "3. **实验验证进展**：近年来，在实验室条件下利用小型量子处理器进行简单的分子模拟实验取得了初步成功，这为未来更大规模的应用打下了良好基础。\n",
      "4. **市场需求明确**：制药业、材料科学等领域对于更高效准确地预测新药物或新材料性质的需求十分迫切，而量子计算正好可以提供这种能力。\n",
      "\n",
      "综上所述，鉴于其理论上的可行性以及当前技术实现的可能性，量子化学模拟被视为短期内最有潜力实现商业价值的应用之一。\n",
      "\n",
      "问题3：基于上述回答，一个相关的后续问题是：“量子化学模拟在哪些具体的应用场景中展现出最大的潜力？请举例说明，并讨论这些应用场景对相关行业（如制药业、材料科学等）可能带来的变革。” 这个问题有助于进一步探讨量子化学模拟的具体应用案例及其潜在影响，加深对于量子计算如何改变特定行业的理解。\n",
      "回答3：量子化学模拟在多个领域展现出巨大潜力，尤其在制药业、材料科学以及能源开发等行业。下面是一些具体的应用场景及其对相关行业的潜在影响：\n",
      "\n",
      "1. **药物设计与发现**：通过量子化学模拟，研究人员可以更准确地预测分子之间的相互作用力，从而加速新药的研发过程。例如，在抗病毒药物或抗癌药物的研究中，这种方法可以帮助科学家们更好地理解药物是如何与目标蛋白结合的，进而优化药物结构，提高其疗效和减少副作用。这将大大缩短药物从实验室到临床试验的时间，降低研发成本。\n",
      "\n",
      "2. **新材料开发**：量子化学能够为新型功能材料（如催化剂、光电材料等）的设计提供理论指导。比如，在寻找高效低成本的太阳能电池材料时，利用量子计算技术可以快速筛选出具有理想性能的候选化合物；同样地，在开发环境友好型催化剂方面，也能够通过精准模拟反应机理来指导合成策略，推动绿色化工的发展。\n",
      "\n",
      "3. **清洁能源探索**：对于解决全球面临的能源危机而言，寻找可持续且高效的替代能源变得尤为重要。量子化学在此领域的作用体现在对氢气储存介质、固态锂离子导体等关键组件的微观结构进行深入分析上。借助于强大的计算能力，科学家们能够在短时间内评估成千上万种可能的配置方案，从中挑选出最佳选择，加快清洁能源技术的进步速度。\n",
      "\n",
      "综上所述，量子化学模拟不仅能够促进科学研究向纵深发展，还将在很大程度上革新传统行业的工作模式，带来前所未有的效率提升和技术突破。随着量子计算机硬件性能的不断提升和完善，未来我们有理由期待更多创新性的应用案例涌现出来。\n",
      "\n",
      "问题4：基于上述讨论，一个相关的后续问题是：“在量子化学模拟的应用中，存在哪些主要的技术挑战或限制？这些挑战如何影响其在制药业、材料科学以及能源开发等领域的实际应用效果？又有哪些可能的解决方案或未来的发展方向来克服这些障碍？” 这个问题有助于深入了解量子化学模拟技术当前面临的局限性及其对特定行业应用的影响，并探讨潜在的改进措施。\n",
      "回答4：在量子化学模拟的应用中，主要的技术挑战或限制包括：\n",
      "\n",
      "1. **计算资源需求高**：精确的量子化学计算需要大量的计算资源（CPU/GPU时间、内存等），这限制了它能够处理的问题规模。\n",
      "2. **算法复杂度**：随着系统规模的增长，求解薛定谔方程所需的计算量呈指数级增长，使得直接求解变得不可行。\n",
      "3. **理论模型局限性**：现有的许多近似方法虽然减少了计算负担，但同时也牺牲了一定程度上的准确性。\n",
      "\n",
      "这些挑战对于制药业、材料科学及能源开发等领域的影响主要体现在：\n",
      "\n",
      "- 制药业：药物设计过程中分子间相互作用的理解受限于计算精度和效率，影响新药研发速度与成本。\n",
      "- 材料科学：新材料的设计和发现过程因难以准确预测材料性能而变得更加困难。\n",
      "- 能源开发：对于太阳能电池、催化剂等新型能源材料的研究受到模拟技术瓶颈的制约。\n",
      "\n",
      "为克服上述障碍，可以考虑以下几个方向：\n",
      "\n",
      "- **发展更高效的算法**：通过改进现有算法或提出新的算法来提高计算效率而不损失太多精度。\n",
      "- **利用人工智能辅助**：将机器学习应用于量子化学问题，以减少传统方法所需的计算资源。\n",
      "- **增加硬件支持**：利用超级计算机集群或是新兴的量子计算机技术加速大规模复杂系统的模拟。\n",
      "- **跨学科合作**：鼓励物理学家、化学家、生物学家以及计算机科学家之间的交流与合作，共同推动领域内的技术创新与发展。\n",
      "\n"
     ]
    }
   ],
   "source": [
    "# 测试动态问答系统\n",
    "initial_question = \"量子计算有哪些潜在应用？\"\n",
    "qa_session = dynamic_qa(initial_question)\n",
    "\n",
    "for i, qa in enumerate(qa_session):\n",
    "    print(f\"问题{i+1}：{qa['question']}\")\n",
    "    print(f\"回答{i+1}：{qa['answer']}\\n\")"
   ]
  },
  {
   "cell_type": "markdown",
   "id": "9a451cad",
   "metadata": {},
   "source": [
    "# 错误处理与验证（Error Handling and Validation）"
   ]
  },
  {
   "cell_type": "code",
   "execution_count": 22,
   "id": "cccb50c7",
   "metadata": {},
   "outputs": [],
   "source": [
    "# 定义提示模板\n",
    "generate_prompt = PromptTemplate(\n",
    "    input_variables=[\"topic\"],\n",
    "    template=\"生成一个与主题“{topic}”相关的四位数字。只返回该数字，不要包含任何额外文本。\"\n",
    ")\n",
    "\n",
    "validate_prompt = PromptTemplate(\n",
    "    input_variables=[\"number\", \"topic\"],\n",
    "    template=\"数字 {number} 是否真的与主题“{topic}”相关？请回答“yes”或“no”，并解释原因。\"\n",
    ")"
   ]
  },
  {
   "cell_type": "code",
   "execution_count": 23,
   "id": "fd01d27d",
   "metadata": {},
   "outputs": [],
   "source": [
    "import re\n",
    "\n",
    "def extract_number(text):\n",
    "    \"\"\"从文本中提取一个四位数字。\n",
    "\n",
    "    参数：\n",
    "        text (str)：待提取数字的文本内容。\n",
    "\n",
    "    返回：\n",
    "        str 或 None：提取到的四位数字，若未找到则返回 None。\n",
    "    \"\"\"\n",
    "    match = re.search(r'\\b\\d{4}\\b', text)\n",
    "    return match.group() if match else None"
   ]
  },
  {
   "cell_type": "code",
   "execution_count": 24,
   "id": "356f5576",
   "metadata": {},
   "outputs": [],
   "source": [
    "def robust_number_generation(topic, max_attempts=3):\n",
    "    \"\"\"生成与主题相关的四位数字，并进行验证与错误处理。\n",
    "\n",
    "    参数：\n",
    "        topic (str)：要生成数字的主题。\n",
    "        max_attempts (int)：最多尝试的次数。\n",
    "\n",
    "    返回：\n",
    "        str：一个验证通过的四位数字，或错误信息。\n",
    "    \"\"\"\n",
    "    for attempt in range(max_attempts):\n",
    "        try:\n",
    "            # 生成数字\n",
    "            response = (generate_prompt | llm).invoke({\"topic\": topic}).content\n",
    "            number = extract_number(response)\n",
    "            \n",
    "            if not number:\n",
    "                raise ValueError(f\"无法从响应中提取四位数字：{response}\")\n",
    "            \n",
    "            # 验证生成的数字是否与主题相关\n",
    "            validation = (validate_prompt | llm).invoke({\"number\": number, \"topic\": topic}).content\n",
    "            if validation.lower().startswith(\"yes\"):\n",
    "                return number\n",
    "            else:\n",
    "                print(f\"第 {attempt + 1} 次尝试：数字 {number} 未通过验证。原因：{validation}\")\n",
    "        except Exception as e:\n",
    "            print(f\"第 {attempt + 1} 次尝试失败：{str(e)}\")\n",
    "    \n",
    "    return \"多次尝试后仍未成功生成有效数字。\""
   ]
  },
  {
   "cell_type": "code",
   "execution_count": 25,
   "id": "fa82f5f9",
   "metadata": {},
   "outputs": [
    {
     "name": "stdout",
     "output_type": "stream",
     "text": [
      "主题“第二次世界大战”的最终结果：1945\n"
     ]
    }
   ],
   "source": [
    "# 测试鲁棒数字生成逻辑\n",
    "topic = \"第二次世界大战\"\n",
    "result = robust_number_generation(topic)\n",
    "print(f\"主题“{topic}”的最终结果：{result}\")"
   ]
  },
  {
   "cell_type": "code",
   "execution_count": null,
   "id": "9e8b2a1f",
   "metadata": {},
   "outputs": [],
   "source": []
  }
 ],
 "metadata": {
  "kernelspec": {
   "display_name": "prompt",
   "language": "python",
   "name": "python3"
  },
  "language_info": {
   "codemirror_mode": {
    "name": "ipython",
    "version": 3
   },
   "file_extension": ".py",
   "mimetype": "text/x-python",
   "name": "python",
   "nbconvert_exporter": "python",
   "pygments_lexer": "ipython3",
   "version": "3.12.9"
  }
 },
 "nbformat": 4,
 "nbformat_minor": 5
}
