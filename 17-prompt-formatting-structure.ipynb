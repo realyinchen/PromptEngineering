{
 "cells": [
  {
   "cell_type": "code",
   "execution_count": 1,
   "id": "327f1a1e",
   "metadata": {},
   "outputs": [],
   "source": [
    "import os\n",
    "from dotenv import load_dotenv\n",
    "from langchain_openai import ChatOpenAI\n",
    "from langchain_core.prompts import PromptTemplate\n",
    "from IPython.display import display, Markdown\n",
    "\n",
    "load_dotenv()\n",
    "\n",
    "llm = ChatOpenAI(\n",
    "    model=\"qwen3-32b\",\n",
    "    temperature=0.0,\n",
    "    base_url=os.environ.get(\"COMPATIBLE_BASE_URL\"),\n",
    "    api_key=os.environ.get(\"COMPATIBLE_API_KEY\"),\n",
    "    extra_body={\"enable_thinking\": False},\n",
    ")"
   ]
  },
  {
   "cell_type": "code",
   "execution_count": 2,
   "id": "46577419",
   "metadata": {},
   "outputs": [
    {
     "data": {
      "text/markdown": [
       "光合作用是指绿色植物、藻类和某些细菌利用光能，将二氧化碳和水转化为有机物（如葡萄糖），并释放氧气的过程。这个过程主要发生在植物的叶绿体中。\n",
       "\n",
       "光合作用的基本反应式如下：\n",
       "\n",
       "**6CO₂ + 6H₂O + 光能 → C₆H₁₂O₆ + 6O₂**\n",
       "\n",
       "其中：\n",
       "- CO₂ 是二氧化碳\n",
       "- H₂O 是水\n",
       "- 光能 来自太阳\n",
       "- C₆H₁₂O₆ 是葡萄糖（一种有机物）\n",
       "- O₂ 是氧气\n",
       "\n",
       "光合作用分为两个主要阶段：\n",
       "1. **光反应**：在叶绿体的类囊体膜上进行，吸收光能，分解水分子，产生氧气，并生成ATP和NADPH等能量物质。\n",
       "2. **暗反应（或卡尔文循环）**：在叶绿体的基质中进行，利用光反应产生的ATP和NADPH，将二氧化碳固定并合成葡萄糖等有机物。\n",
       "\n",
       "光合作用是地球上生命维持的重要过程，它不仅为植物自身提供营养，也为其他生物提供了氧气和食物来源。"
      ],
      "text/plain": [
       "<IPython.core.display.Markdown object>"
      ]
     },
     "metadata": {},
     "output_type": "display_data"
    }
   ],
   "source": [
    "qa_prompt = \"\"\"问：什么是光合作用？  \n",
    "答：\"\"\"\n",
    "\n",
    "display(Markdown(llm.invoke(qa_prompt).content))"
   ]
  },
  {
   "cell_type": "code",
   "execution_count": 3,
   "id": "7a5182e7",
   "metadata": {},
   "outputs": [
    {
     "data": {
      "text/markdown": [
       "老师：植物进行光合作用需要三个主要的条件：\n",
       "\n",
       "1. **阳光**（光能）：这是光合作用的能量来源，植物通过叶子中的叶绿素吸收太阳光。\n",
       "\n",
       "2. **二氧化碳**（CO₂）：植物从空气中吸收二氧化碳，通常通过叶片上的气孔进入体内。\n",
       "\n",
       "3. **水**（H₂O）：植物通过根部从土壤中吸收水分。\n",
       "\n",
       "在这些条件下，植物利用光能把二氧化碳和水转化成葡萄糖（一种糖类，为植物提供能量），同时释放出氧气（O₂）作为副产品。这个过程可以简单表示为：\n",
       "\n",
       "**6CO₂ + 6H₂O + 光能 → C₆H₁₂O₆ + 6O₂**\n",
       "\n",
       "这就是光合作用的基本原理，也是植物制造自己食物的方式。"
      ],
      "text/plain": [
       "<IPython.core.display.Markdown object>"
      ]
     },
     "metadata": {},
     "output_type": "display_data"
    }
   ],
   "source": [
    "dialogue_prompt = \"\"\"学生：你能给我解释一下什么是光合作用吗？  \n",
    "老师：当然可以！光合作用是……  \n",
    "学生：植物进行光合作用需要什么？  \n",
    "老师：\"\"\"\n",
    "\n",
    "display(Markdown(llm.invoke(dialogue_prompt).content))"
   ]
  },
  {
   "cell_type": "code",
   "execution_count": 4,
   "id": "b5693371",
   "metadata": {},
   "outputs": [
    {
     "data": {
      "text/markdown": [
       "光合作用是绿色植物、藻类和某些细菌利用光能将二氧化碳和水转化为有机物（如葡萄糖）并释放氧气的过程。其主要组成部分包括：\n",
       "\n",
       "1. **光能**：来自太阳，由叶绿体中的叶绿素吸收。\n",
       "2. **二氧化碳（CO₂）**：从空气中通过气孔进入植物体内。\n",
       "3. **水（H₂O）**：通过根部吸收，运输到叶片。\n",
       "4. **叶绿体**：植物细胞中进行光合作用的细胞器。\n",
       "\n",
       "反应式简写为：  \n",
       "**6CO₂ + 6H₂O + 光能 → C₆H₁₂O₆ + 6O₂**\n",
       "\n",
       "### 重要性：\n",
       "- **生产有机物**：为植物自身及其它生物提供能量来源。\n",
       "- **释放氧气**：维持地球大气中的氧含量，支持需氧生物生存。\n",
       "- **调节碳氧平衡**：吸收二氧化碳，有助于减缓温室效应。\n",
       "\n",
       "光合作用是生态系统中能量流动的基础，对地球生命至关重要。"
      ],
      "text/plain": [
       "<IPython.core.display.Markdown object>"
      ]
     },
     "metadata": {},
     "output_type": "display_data"
    }
   ],
   "source": [
    "instruction_prompt = \"\"\"简要解释光合作用，包括其主要组成部分及其重要性。\"\"\"\n",
    "\n",
    "display(Markdown(llm.invoke(instruction_prompt).content))"
   ]
  },
  {
   "cell_type": "code",
   "execution_count": 5,
   "id": "ee43aaa0",
   "metadata": {},
   "outputs": [
    {
     "data": {
      "text/markdown": [
       "# 定义  \n",
       "光合作用是绿色植物、藻类和某些细菌利用光能将二氧化碳和水转化为有机物（如葡萄糖）并释放氧气的过程。这一过程主要发生在植物的叶绿体中，依赖于叶绿素等光合色素吸收太阳光。\n",
       "\n",
       "---\n",
       "\n",
       "# 过程  \n",
       "光合作用可以分为两个主要阶段：**光反应**和**暗反应**（又称卡尔文循环）。\n",
       "\n",
       "1. **光反应**（发生在叶绿体的类囊体膜上）：\n",
       "   - 植物吸收光能，激发叶绿体中的电子。\n",
       "   - 水分子被分解为氧气、氢离子和电子（此过程称为水的光解），氧气作为副产物被释放。\n",
       "   - 光能转化为化学能，生成ATP（三磷酸腺苷）和NADPH（还原型辅酶Ⅱ），这两种物质为暗反应提供能量和还原力。\n",
       "\n",
       "2. **暗反应/卡尔文循环**（发生在叶绿体的基质中）：\n",
       "   - 利用光反应产生的ATP和NADPH，将二氧化碳固定并转化为葡萄糖等有机物。\n",
       "   - 该过程不需要光，但需要光反应提供的能量物质。\n",
       "\n",
       "总反应式可表示为：  \n",
       "$$6CO_2 + 6H_2O + 光能 \\rightarrow C_6H_{12}O_6 + 6O_2$$\n",
       "\n",
       "---\n",
       "\n",
       "# 重要性  \n",
       "光合作用在自然界和生态系统中具有极其重要的作用：\n",
       "\n",
       "1. **提供有机物和能量来源**：植物通过光合作用合成的有机物是整个食物链的基础，为动物和人类提供营养和能量。\n",
       "   \n",
       "2. **维持大气成分平衡**：光合作用释放氧气，是地球大气中氧气的主要来源，同时吸收二氧化碳，有助于减缓温室效应。\n",
       "\n",
       "3. **生态系统的基石**：绿色植物作为生产者，在生态系统中起着核心作用，支撑着各种生物的生存和发展。\n",
       "\n",
       "4. **农业与粮食生产的基础**：农作物依靠光合作用制造养分，直接影响粮食产量和人类的生存质量。\n",
       "\n",
       "总之，光合作用不仅是生命得以延续的重要机制，也是维持地球生态平衡的关键过程。"
      ],
      "text/plain": [
       "<IPython.core.display.Markdown object>"
      ]
     },
     "metadata": {},
     "output_type": "display_data"
    }
   ],
   "source": [
    "headings_prompt = \"\"\"请按照以下结构解释光合作用：\n",
    "\n",
    "# 定义\n",
    "\n",
    "# 过程\n",
    "\n",
    "# 重要性\n",
    "\"\"\"\n",
    "\n",
    "display(Markdown(llm.invoke(headings_prompt).content))"
   ]
  },
  {
   "cell_type": "code",
   "execution_count": 6,
   "id": "71970026",
   "metadata": {},
   "outputs": [
    {
     "data": {
      "text/markdown": [
       "光合作用是植物、藻类和某些细菌利用光能将二氧化碳和水转化为葡萄糖并释放氧气的过程。其关键成分包括：\n",
       "\n",
       "• **阳光（光能）**：提供能量，驱动光合作用的反应。  \n",
       "• **水（H₂O）**：作为氢的来源，在光反应中被分解，产生氧气。  \n",
       "• **二氧化碳（CO₂）**：作为碳的来源，参与暗反应（卡尔文循环），合成有机物。"
      ],
      "text/plain": [
       "<IPython.core.display.Markdown object>"
      ]
     },
     "metadata": {},
     "output_type": "display_data"
    }
   ],
   "source": [
    "bullet_points_prompt = \"\"\"列出光合作用所需的关键成分：\n",
    "\n",
    "•  \n",
    "•  \n",
    "•  \n",
    "\"\"\"\n",
    "\n",
    "display(Markdown(llm.invoke(bullet_points_prompt).content))"
   ]
  },
  {
   "cell_type": "code",
   "execution_count": 7,
   "id": "0ddbc15a",
   "metadata": {},
   "outputs": [
    {
     "data": {
      "text/markdown": [
       "光合作用是植物、藻类和某些细菌利用光能将二氧化碳和水转化为有机物（如葡萄糖）并释放氧气的过程。以下是按顺序描述的光合作用的主要步骤：\n",
       "\n",
       "1. **吸收光能**：植物通过叶绿体中的叶绿素等色素吸收太阳光的能量。这些光主要集中在可见光范围内的红光和蓝光。\n",
       "\n",
       "2. **光反应（光依赖反应）**：在叶绿体的类囊体膜上，光能被用来分解水分子（H₂O），产生氧气（O₂）、电子和氢离子（H⁺）。这个过程称为“水的光解”。同时，光能也被用来合成高能物质ATP（三磷酸腺苷）和NADPH（还原型辅酶Ⅱ）。\n",
       "\n",
       "3. **暗反应（卡尔文循环）**：在叶绿体的基质中进行，不需要直接光照。利用光反应产生的ATP和NADPH，将二氧化碳（CO₂）固定并转化成有机物（如葡萄糖）。这一过程也被称为碳固定或卡尔文循环。\n",
       "\n",
       "4. **生成有机物和释放氧气**：最终，植物通过光合作用将二氧化碳和水合成为葡萄糖等有机物，并释放出氧气作为副产物。\n",
       "\n",
       "总结公式为：\n",
       "\n",
       "$$6\\text{CO}_2 + 6\\text{H}_2\\text{O} + 光能 \\rightarrow \\text{C}_6\\text{H}_{12}\\text{O}_6 + 6\\text{O}_2$$"
      ],
      "text/plain": [
       "<IPython.core.display.Markdown object>"
      ]
     },
     "metadata": {},
     "output_type": "display_data"
    }
   ],
   "source": [
    "numbered_list_prompt = \"\"\"按顺序描述光合作用的步骤：\n",
    "\n",
    "1.  \n",
    "2.  \n",
    "3.  \n",
    "4.\n",
    "\"\"\"\n",
    "\n",
    "display(Markdown(llm.invoke(numbered_list_prompt).content))"
   ]
  },
  {
   "cell_type": "code",
   "execution_count": null,
   "id": "21f3a0a8",
   "metadata": {},
   "outputs": [],
   "source": []
  }
 ],
 "metadata": {
  "kernelspec": {
   "display_name": "prompt",
   "language": "python",
   "name": "python3"
  },
  "language_info": {
   "codemirror_mode": {
    "name": "ipython",
    "version": 3
   },
   "file_extension": ".py",
   "mimetype": "text/x-python",
   "name": "python",
   "nbconvert_exporter": "python",
   "pygments_lexer": "ipython3",
   "version": "3.12.9"
  }
 },
 "nbformat": 4,
 "nbformat_minor": 5
}
