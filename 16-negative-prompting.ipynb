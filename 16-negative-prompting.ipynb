{
 "cells": [
  {
   "cell_type": "code",
   "execution_count": 1,
   "id": "02b8e5c5",
   "metadata": {},
   "outputs": [],
   "source": [
    "import os\n",
    "from dotenv import load_dotenv\n",
    "from langchain_openai import ChatOpenAI\n",
    "from langchain_core.prompts import PromptTemplate\n",
    "from IPython.display import display, Markdown\n",
    "\n",
    "load_dotenv()\n",
    "\n",
    "llm = ChatOpenAI(\n",
    "    model=\"qwen3-32b\",\n",
    "    temperature=0.0,\n",
    "    base_url=os.environ.get(\"COMPATIBLE_BASE_URL\"),\n",
    "    api_key=os.environ.get(\"COMPATIBLE_API_KEY\"),\n",
    "    extra_body={\"enable_thinking\": False},\n",
    ")"
   ]
  },
  {
   "cell_type": "code",
   "execution_count": null,
   "id": "945112de",
   "metadata": {},
   "outputs": [
    {
     "data": {
      "text/markdown": [
       "植物利用阳光，把水和空气中的物质变成养分，并释放出氧气。"
      ],
      "text/plain": [
       "<IPython.core.display.Markdown object>"
      ]
     },
     "metadata": {},
     "output_type": "display_data"
    }
   ],
   "source": [
    "negative_example_prompt = PromptTemplate(\n",
    "    input_variables=[\"topic\"],\n",
    "    template=\"\"\"请简要解释 {topic}。\n",
    "    请不要在解释中包含以下内容：\n",
    "    - 技术术语或复杂词汇\n",
    "    - 历史背景或具体年代\n",
    "    - 与其他相关主题的比较\n",
    "    你的解释应当简洁、直接，并专注于核心概念。\"\"\",\n",
    ")\n",
    "\n",
    "response = llm.invoke(negative_example_prompt.format(topic=\"光合作用\")).content\n",
    "display(Markdown(response))"
   ]
  },
  {
   "cell_type": "code",
   "execution_count": 3,
   "id": "f4f9e690",
   "metadata": {},
   "outputs": [
    {
     "data": {
      "text/markdown": [
       "锻炼有助于增强心肺功能，提升整体身体素质，同时还能促进大脑释放内啡肽，改善情绪、缓解压力。长期坚持适度的运动，可以增强免疫力，提高睡眠质量，并提升日常生活的活力与专注力。"
      ],
      "text/plain": [
       "<IPython.core.display.Markdown object>"
      ]
     },
     "metadata": {},
     "output_type": "display_data"
    }
   ],
   "source": [
    "exclusion_prompt = PromptTemplate(\n",
    "    input_variables=[\"topic\", \"exclude\"],\n",
    "    template=\"\"\"请写一小段关于 {topic} 的文字。\n",
    "    重要提示：不要提及或参考与 {exclude} 有关的任何内容。\"\"\",\n",
    ")\n",
    "\n",
    "response = llm.invoke(\n",
    "    exclusion_prompt.format(topic=\"锻炼的好处\", exclude=\"减重或身体形象\")\n",
    ").content\n",
    "display(Markdown(response))"
   ]
  },
  {
   "cell_type": "code",
   "execution_count": 11,
   "id": "b1ac1cc3",
   "metadata": {},
   "outputs": [
    {
     "data": {
      "text/markdown": [
       "人工智能是一种基于算法的计算系统，通过数据训练实现特定任务的自动化处理。其核心技术包括机器学习、深度学习和自然语言处理等，依赖数学模型与统计方法进行模式识别与决策优化。人工智能系统通过输入数据生成输出结果，并在迭代过程中不断调整参数以提升性能。"
      ],
      "text/plain": [
       "<IPython.core.display.Markdown object>"
      ]
     },
     "metadata": {},
     "output_type": "display_data"
    }
   ],
   "source": [
    "constraint_prompt = PromptTemplate(\n",
    "    input_variables=[\"topic\", \"style\", \"excluded_words\"],\n",
    "    template=\"\"\"请用 {style} 风格描述 {topic}。\n",
    "    输出要求：\n",
    "    1. 不要使用以下词语：{excluded_words}\n",
    "    2. 描述控制在 100 个词以内\n",
    "    3. 不要使用类比或比喻\n",
    "    4. 内容应完全基于事实\"\"\",\n",
    ")\n",
    "\n",
    "response = llm.invoke(\n",
    "    constraint_prompt.format(\n",
    "        topic=\"人工智能\", style=\"技术性\", excluded_words=\"机器人、人类、科幻\"\n",
    "    )\n",
    ").content\n",
    "display(Markdown(response))"
   ]
  },
  {
   "cell_type": "code",
   "execution_count": 12,
   "id": "4bc09e72",
   "metadata": {},
   "outputs": [],
   "source": [
    "def evaluate_output(output, constraints):\n",
    "    \"\"\"评估输出是否满足给定的约束条件。\"\"\"\n",
    "    results = {}\n",
    "    for constraint, check_func in constraints.items():\n",
    "        results[constraint] = check_func(output)\n",
    "    return results"
   ]
  },
  {
   "cell_type": "code",
   "execution_count": 13,
   "id": "b3ff1e9b",
   "metadata": {},
   "outputs": [],
   "source": [
    "import re\n",
    "\n",
    "constraints = {\n",
    "    \"word_count\": lambda x: len(x.split()) <= 100,\n",
    "    \"no_excluded_words\": lambda x: all(word not in x for word in [\"机器人\", \"人类\", \"科幻\"]),\n",
    "    \"no_analogies\": lambda x: not re.search(r\"\\b(as|like)\\b\", x, re.IGNORECASE)\n",
    "}"
   ]
  },
  {
   "cell_type": "code",
   "execution_count": 14,
   "id": "29d431bb",
   "metadata": {},
   "outputs": [
    {
     "name": "stdout",
     "output_type": "stream",
     "text": [
      "评估结果: {'word_count': True, 'no_excluded_words': True, 'no_analogies': True}\n"
     ]
    }
   ],
   "source": [
    "evaluation_results = evaluate_output(response, constraints)\n",
    "print(\"评估结果:\", evaluation_results)"
   ]
  },
  {
   "cell_type": "code",
   "execution_count": 15,
   "id": "aed2edc8",
   "metadata": {},
   "outputs": [],
   "source": [
    "if not all(evaluation_results.values()):\n",
    "    refined_prompt = constraint_prompt.format(\n",
    "        topic=\"artificial intelligence\",\n",
    "        style=\"technical and concise\",  # 添加“concise”以控制字数\n",
    "        excluded_words=\"机器人, 人类, 科幻, 像, 比如\"  # 增加“像”和“比如”以避免使用类比\n",
    "    )\n",
    "    refined_response = llm.invoke(refined_prompt).content\n",
    "    print(\"\\n优化后的输出：\\n\", refined_response)\n",
    "\n",
    "    # 再次评估优化后的输出\n",
    "    refined_evaluation = evaluate_output(refined_response, constraints)\n",
    "    print(\"\\n优化后的评估结果:\", refined_evaluation)\n"
   ]
  },
  {
   "cell_type": "code",
   "execution_count": null,
   "id": "54dcbff2",
   "metadata": {},
   "outputs": [],
   "source": []
  }
 ],
 "metadata": {
  "kernelspec": {
   "display_name": "prompt",
   "language": "python",
   "name": "python3"
  },
  "language_info": {
   "codemirror_mode": {
    "name": "ipython",
    "version": 3
   },
   "file_extension": ".py",
   "mimetype": "text/x-python",
   "name": "python",
   "nbconvert_exporter": "python",
   "pygments_lexer": "ipython3",
   "version": "3.12.9"
  }
 },
 "nbformat": 4,
 "nbformat_minor": 5
}
