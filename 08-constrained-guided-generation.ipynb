{
 "cells": [
  {
   "cell_type": "code",
   "execution_count": 1,
   "id": "42c311e2",
   "metadata": {},
   "outputs": [],
   "source": [
    "from langchain_openai import ChatOpenAI\n",
    "from dotenv import load_dotenv\n",
    "\n",
    "load_dotenv()\n",
    "\n",
    "# Initialize the language model\n",
    "llm = ChatOpenAI(model=\"qwen-max-latest\", temperature=0)"
   ]
  },
  {
   "cell_type": "markdown",
   "id": "dbcf6fbb",
   "metadata": {},
   "source": [
    "# 设置模型输出约束"
   ]
  },
  {
   "cell_type": "code",
   "execution_count": null,
   "id": "2bb9fe24",
   "metadata": {},
   "outputs": [],
   "source": [
    "from langchain_core.prompts import PromptTemplate\n",
    "\n",
    "\n",
    "constrained_prompt = PromptTemplate(\n",
    "    input_variables=[\"product\", \"target_audience\", \"tone\", \"word_limit\"],\n",
    "    template=\"\"\"为 {product} 创建产品描述，目标受众为 {target_audience}。\n",
    "    使用 {tone} 语气，字数控制在 {word_limit} 以内。\n",
    "    描述应包含：\n",
    "    1. 醒目的标题\n",
    "    2. 三个主要功能\n",
    "    3. 行动号召\n",
    "\n",
    "    产品描述：\n",
    "    \"\"\",\n",
    ")\n"
   ]
  },
  {
   "cell_type": "code",
   "execution_count": null,
   "id": "fd40be92",
   "metadata": {},
   "outputs": [
    {
     "data": {
      "text/markdown": [
       "**喝出健康，潮酷随行！**  \n",
       "智能水瓶来啦！💧 定时提醒喝水、记录每日摄入量、智能温控不怕烫嘴。让健康变简单，喝水也变有趣！✨ 快来入手，和我们一起开启水润生活吧！"
      ],
      "text/plain": [
       "<IPython.core.display.Markdown object>"
      ]
     },
     "metadata": {},
     "output_type": "display_data"
    }
   ],
   "source": [
    "from IPython.display import display, Markdown\n",
    "\n",
    "\n",
    "# Generate the constrained output\n",
    "input_variables = {\n",
    "    \"product\": \"智能水瓶\",\n",
    "    \"target_audience\": \"注重健康的千禧一代\",\n",
    "    \"tone\": \"随意而友好\",\n",
    "    \"word_limit\": \"75\",\n",
    "}\n",
    "\n",
    "chain = constrained_prompt | llm\n",
    "output = chain.invoke(input_variables).content\n",
    "display(Markdown(output))"
   ]
  },
  {
   "cell_type": "markdown",
   "id": "b7d554a9",
   "metadata": {},
   "source": [
    "# 实现基于规则的生成"
   ]
  },
  {
   "cell_type": "code",
   "execution_count": 5,
   "id": "96dd50bc",
   "metadata": {},
   "outputs": [],
   "source": [
    "job_posting_prompt = PromptTemplate(\n",
    "    input_variables=[\"job_title\", \"company\", \"location\", \"experience\"],\n",
    "    template=\"\"\"在 {location} 的 {company} 创建一条 {job_title} 职位的招聘信息。\n",
    "    应聘者应具备 {experience} 年工作经验。\n",
    "    请遵循以下规则：\n",
    "    1. 以简短的公司描述开头（2 句话）\n",
    "    2. 列出 5 项关键职责，每项都以一个动词开头\n",
    "    3. 列出 5 项必备资质，每项都用一句话概括\n",
    "    4. 以标准化的平等机会声明结尾\n",
    "    \n",
    "    输出格式如下：\n",
    "    公司：[公司描述]\n",
    "    \n",
    "    职责：\n",
    "    - [职责 1]\n",
    "    - [职责 2]\n",
    "    - [职责 3]\n",
    "    - [职责 4]\n",
    "    - [职责 5]\n",
    "    \n",
    "    资质：\n",
    "    - [资质 1]\n",
    "    - [资质 2]\n",
    "    - [资质 3]\n",
    "    - [资质 4]\n",
    "    - [资质 5]\n",
    "    \n",
    "    平等就业机会：[平等机会声明]\n",
    "    \"\"\",\n",
    ")"
   ]
  },
  {
   "cell_type": "code",
   "execution_count": 6,
   "id": "6de87e0e",
   "metadata": {},
   "outputs": [
    {
     "data": {
      "text/markdown": [
       "公司：PyTorch研习社位于安徽合肥，专注于深度学习和人工智能技术的研究与应用。我们致力于打造创新的解决方案，推动AI技术在各行业的落地与发展。\n",
       "\n",
       "职责：\n",
       "- 设计并实现高效的深度学习模型和算法\n",
       "- 优化现有软件架构以提升系统性能和可扩展性\n",
       "- 领导团队完成复杂项目，确保按时交付高质量成果\n",
       "- 分析用户需求并转化为技术解决方案\n",
       "- 指导初级工程师，分享专业知识以提升团队整体能力\n",
       "\n",
       "资质：\n",
       "- 拥有计算机科学或相关领域的本科及以上学历\n",
       "- 具备5年以上软件开发经验，且有2年以上深度学习框架（如PyTorch）使用经验\n",
       "- 精通Python/C++编程语言，熟悉常用算法和数据结构\n",
       "- 对机器学习和深度学习理论有深刻理解，能够解决实际问题\n",
       "- 良好的沟通能力和团队协作精神，能够在多学科团队中高效工作\n",
       "\n",
       "平等就业机会：PyTorch研习社是一个提供平等就业机会的雇主，我们欢迎来自不同背景的候选人申请，所有申请将根据个人能力和岗位匹配度进行评估。"
      ],
      "text/plain": [
       "<IPython.core.display.Markdown object>"
      ]
     },
     "metadata": {},
     "output_type": "display_data"
    }
   ],
   "source": [
    "# Generate the rule-based output\n",
    "input_variables = {\n",
    "    \"job_title\": \"高级软件工程师\",\n",
    "    \"company\": \"PyTorch研习社\",\n",
    "    \"location\": \"安徽，合肥\",\n",
    "    \"experience\": \"5+\",\n",
    "}\n",
    "\n",
    "chain = job_posting_prompt | llm\n",
    "output = chain.invoke(input_variables).content\n",
    "display(Markdown(output))"
   ]
  },
  {
   "cell_type": "markdown",
   "id": "d314ab9f",
   "metadata": {},
   "source": [
    "# 使用正则表达式解析器进行结构化输出"
   ]
  },
  {
   "cell_type": "code",
   "execution_count": 18,
   "id": "c4fe8feb",
   "metadata": {},
   "outputs": [],
   "source": [
    "from langchain.output_parsers.regex import RegexParser\n",
    "\n",
    "\n",
    "regex_parser = RegexParser(\n",
    "    regex=r\"公司：\\s*([\\s\\S]*?)\\n\\s*职责：\\s*([\\s\\S]*?)\\n\\s*资质：\\s*([\\s\\S]*?)\\n\\s*平等就业机会：\\s*([\\s\\S]*)\",\n",
    "    output_keys=[\n",
    "        \"公司简介\",\n",
    "        \"职责\",\n",
    "        \"资质\",\n",
    "        \"EEO 声明\",\n",
    "    ],\n",
    ")\n",
    "\n",
    "parsed_job_posting_prompt = PromptTemplate(\n",
    "    input_variables=[\"job_title\", \"company\", \"location\", \"experience\"],\n",
    "    template=\"\"\"在 {location} 的 {company} 创建一条 {job_title} 职位的招聘信息。\n",
    "    应聘者应具备 {experience} 年工作经验。\n",
    "    请遵循以下规则：\n",
    "    1. 以简短的公司描述开头（2 句话）\n",
    "    2. 列出 5 项关键职责，每项都以一个动词开头\n",
    "    3. 列出 5 项必备资质，每项都用一句话概括\n",
    "    4. 以标准化的平等机会声明结尾\n",
    "    \n",
    "    输出格式如下：\n",
    "    公司：[公司描述]\n",
    "    \n",
    "    职责：\n",
    "    - [职责 1]\n",
    "    - [职责 2]\n",
    "    - [职责 3]\n",
    "    - [职责 4]\n",
    "    - [职责 5]\n",
    "    \n",
    "    资质：\n",
    "    - [资质 1]\n",
    "    - [资质 2]\n",
    "    - [资质 3]\n",
    "    - [资质 4]\n",
    "    - [资质 5]\n",
    "    \n",
    "    平等就业机会：[平等机会声明]\n",
    "    \"\"\",\n",
    ")"
   ]
  },
  {
   "cell_type": "code",
   "execution_count": 19,
   "id": "5a9c6219",
   "metadata": {},
   "outputs": [],
   "source": [
    "import re\n",
    "\n",
    "\n",
    "def clean_output(output):\n",
    "    for key, value in output.items():\n",
    "        if isinstance(value, str):\n",
    "            # Remove leading/trailing whitespace and normalize newlines\n",
    "            output[key] = re.sub(r\"\\n\\s*\", \"\\n\", value.strip())\n",
    "    return output"
   ]
  },
  {
   "cell_type": "code",
   "execution_count": 20,
   "id": "948f509b",
   "metadata": {},
   "outputs": [
    {
     "name": "stdout",
     "output_type": "stream",
     "text": [
      "解析后的输出:\n",
      "公司简介:\n",
      "PyTorch研习社是一家专注于深度学习和人工智能技术研究与应用的创新机构，致力于推动PyTorch框架在各行业的落地与发展。\n",
      "\n",
      "职责:\n",
      "- 开发高性能的深度学习模型和算法以解决实际问题\n",
      "- 优化现有代码库的性能并提升其可扩展性\n",
      "- 指导初级工程师进行技术实践和代码审查\n",
      "- 与跨职能团队合作设计端到端的AI解决方案\n",
      "- 跟踪行业最新技术趋势并将其应用于项目中\n",
      "\n",
      "资质:\n",
      "- 拥有计算机科学或相关领域的本科及以上学历\n",
      "- 具备5年以上软件开发经验，且有2年以上深度学习相关工作经验\n",
      "- 精通Python编程语言及PyTorch框架的使用\n",
      "- 熟悉分布式系统和云计算平台（如AWS、Azure等）\n",
      "- 具备良好的沟通能力和团队协作精神\n",
      "\n",
      "EEO 声明:\n",
      "PyTorch研习社是一个平等机会雇主，我们欢迎来自不同背景的候选人申请，并致力于打造多元化和包容性的工作环境。\n",
      "\n"
     ]
    }
   ],
   "source": [
    "# Generate the parsed output\n",
    "chain = parsed_job_posting_prompt | llm\n",
    "raw_output = chain.invoke(input_variables).content\n",
    "\n",
    "# Parse and clean the output\n",
    "parsed_output = regex_parser.parse(raw_output)\n",
    "cleaned_output = clean_output(parsed_output)\n",
    "\n",
    "# Display the parsed output\n",
    "print(\"解析后的输出:\")\n",
    "for key, value in cleaned_output.items():\n",
    "    print(f\"{key.upper()}:\")\n",
    "    print(value)\n",
    "    print()"
   ]
  },
  {
   "cell_type": "markdown",
   "id": "1a12925d",
   "metadata": {},
   "source": [
    "# 实施附加约束"
   ]
  },
  {
   "cell_type": "code",
   "execution_count": 21,
   "id": "97a18fdd",
   "metadata": {},
   "outputs": [],
   "source": [
    "review_prompt = PromptTemplate(\n",
    "    input_variables=[\"product\", \"rating\", \"pros\", \"cons\", \"word_limit\"],\n",
    "    template=\"\"\"为 {product} 撰写产品评价，并遵循以下限制：\n",
    "    1. 评价应为 {rating} 星（满分 5 星）\n",
    "    2. 包含 {pros} 个优点和 {cons} 个缺点\n",
    "    3. 每个优点和缺点使用 2 到 3 句话\n",
    "    4. 整篇评价的字数应少于 {word_limit} 个\n",
    "    5. 以一句话作为推荐结尾\n",
    "    \n",
    "    评价格式如下：\n",
    "    评分：[X] 星（满分 5 星）\n",
    "    \n",
    "    优点：\n",
    "    1. [优点 1]\n",
    "    2. [优点 2]\n",
    "    ...\n",
    "    \n",
    "    缺点：\n",
    "    1. [缺点 1]\n",
    "    2. [缺点 2]\n",
    "    ...\n",
    "    \n",
    "    推荐：[一句话推荐]\n",
    "    \"\"\",\n",
    ")"
   ]
  },
  {
   "cell_type": "code",
   "execution_count": 22,
   "id": "61f3c297",
   "metadata": {},
   "outputs": [
    {
     "data": {
      "text/markdown": [
       "评分：4 星（满分 5 星）\n",
       "\n",
       "优点：  \n",
       "1. 智能手机 X 的屏幕显示效果非常出色，色彩鲜艳且细节清晰，非常适合观看视频和浏览图片。即使在阳光下，屏幕亮度也足够高，确保内容依然可见。  \n",
       "2. 电池续航表现令人满意，正常使用情况下可以轻松坚持一整天。配合快速充电功能，短时间内即可恢复大量电量，减少等待时间。  \n",
       "3. 相机拍摄能力强大，尤其是在低光环境下表现出色。多种拍摄模式和AI优化功能让照片更加生动，满足日常拍摄需求。  \n",
       "\n",
       "缺点：  \n",
       "1. 手机的机身设计略显厚重，长时间单手握持会感到疲劳。与同类产品相比，便携性稍逊一筹。  \n",
       "2. 系统界面虽然流畅，但预装软件较多，部分应用无法卸载，占用了一定的存储空间。这可能会让喜欢简洁系统的用户感到不便。  \n",
       "\n",
       "推荐：智能手机 X 是一款性能均衡、拍照出色的设备，适合追求高性价比的用户。"
      ],
      "text/plain": [
       "<IPython.core.display.Markdown object>"
      ]
     },
     "metadata": {},
     "output_type": "display_data"
    }
   ],
   "source": [
    "input_variables = {\n",
    "    \"product\": \"智能手机 X\",\n",
    "    \"rating\": \"4\",\n",
    "    \"pros\": \"3\",\n",
    "    \"cons\": \"2\",\n",
    "    \"word_limit\": \"200\",\n",
    "}\n",
    "\n",
    "chain = review_prompt | llm\n",
    "output = chain.invoke(input_variables).content\n",
    "display(Markdown(output))"
   ]
  },
  {
   "cell_type": "code",
   "execution_count": null,
   "id": "d1455940",
   "metadata": {},
   "outputs": [],
   "source": []
  }
 ],
 "metadata": {
  "kernelspec": {
   "display_name": "prompt",
   "language": "python",
   "name": "python3"
  },
  "language_info": {
   "codemirror_mode": {
    "name": "ipython",
    "version": 3
   },
   "file_extension": ".py",
   "mimetype": "text/x-python",
   "name": "python",
   "nbconvert_exporter": "python",
   "pygments_lexer": "ipython3",
   "version": "3.12.9"
  }
 },
 "nbformat": 4,
 "nbformat_minor": 5
}
